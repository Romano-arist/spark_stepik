{
 "cells": [
  {
   "cell_type": "code",
   "id": "initial_id",
   "metadata": {
    "collapsed": true,
    "ExecuteTime": {
     "end_time": "2025-07-21T08:05:24.232207Z",
     "start_time": "2025-07-21T08:05:24.219860Z"
    }
   },
   "source": [
    "from pyspark.sql import SparkSession\n",
    "import pyspark.sql.functions as F\n",
    "from pyspark.sql.types import IntegerType\n",
    "\n",
    "spark = SparkSession.builder.appName(\"GoT\").getOrCreate()"
   ],
   "outputs": [],
   "execution_count": 79
  },
  {
   "metadata": {
    "ExecuteTime": {
     "end_time": "2025-07-21T08:05:28.448198Z",
     "start_time": "2025-07-21T08:05:28.444885Z"
    }
   },
   "cell_type": "code",
   "source": [
    "path1 = '/Users/romanov.ana/PycharmProjects/spark/resources/1_df_files/subtitles_s1.json'\n",
    "path2 = '/Users/romanov.ana/PycharmProjects/spark/resources/1_df_files/subtitles_s2.json'"
   ],
   "id": "72c54c5b774d6a21",
   "outputs": [],
   "execution_count": 80
  },
  {
   "metadata": {
    "ExecuteTime": {
     "end_time": "2025-07-21T08:05:29.374674Z",
     "start_time": "2025-07-21T08:05:29.220393Z"
    }
   },
   "cell_type": "code",
   "source": [
    "df1 = spark.read.option(\"inferSchema\", True).csv(path1, sep='\\u0001')\n",
    "df1 = df1.withColumnRenamed(\"_c0\", \"data\")\n",
    "df2 = spark.read.option(\"inferSchema\", True).csv(path2, sep='\\u0001')\n",
    "df2 = df2.withColumnRenamed(\"_c0\", \"data\")"
   ],
   "id": "9d6d82ce142179a9",
   "outputs": [],
   "execution_count": 81
  },
  {
   "metadata": {
    "ExecuteTime": {
     "end_time": "2025-07-21T08:05:29.997760Z",
     "start_time": "2025-07-21T08:05:29.977080Z"
    }
   },
   "cell_type": "code",
   "source": [
    "df_exploded_1 = df1.withColumn(\"data\", F.split(F.col(\"data\"), '\\\\W+')).select(F.explode(\"data\").alias(\"element\"))\n",
    "df_exploded_2 = df2.withColumn(\"data\", F.split(F.col(\"data\"), '\\\\W+')).select(F.explode(\"data\").alias(\"element\"))"
   ],
   "id": "756baf84728733e4",
   "outputs": [],
   "execution_count": 82
  },
  {
   "metadata": {
    "ExecuteTime": {
     "end_time": "2025-07-21T08:05:39.408773Z",
     "start_time": "2025-07-21T08:05:39.406009Z"
    }
   },
   "cell_type": "code",
   "source": [
    "from pyspark.sql import DataFrame\n",
    "\n",
    "\n",
    "def custom_filter(df: DataFrame, limit = 10) -> DataFrame:\n",
    "    return df.groupBy(F.col(\"element\")) \\\n",
    "    .count() \\\n",
    "    .filter((F.col(\"element\") != '') & F.col(\"element\").try_cast(IntegerType()).isNull()) \\\n",
    "    .orderBy(F.col(\"count\").desc()).limit(limit)"
   ],
   "id": "1d71a02a87dc7135",
   "outputs": [],
   "execution_count": 87
  },
  {
   "metadata": {
    "ExecuteTime": {
     "end_time": "2025-07-21T08:06:31.802428Z",
     "start_time": "2025-07-21T08:06:31.771519Z"
    }
   },
   "cell_type": "code",
   "source": [
    "word_cnt_df1 = custom_filter(df_exploded_1).withColumn(\"index\", F.monotonically_increasing_id())\n",
    "word_cnt_df2 = custom_filter(df_exploded_1).withColumn(\"index\", F.monotonically_increasing_id())"
   ],
   "id": "a349ac5a7ff092a0",
   "outputs": [],
   "execution_count": 90
  },
  {
   "metadata": {
    "ExecuteTime": {
     "end_time": "2025-07-21T08:06:36.584909Z",
     "start_time": "2025-07-21T08:06:36.288318Z"
    }
   },
   "cell_type": "code",
   "source": [
    "result_df = word_cnt_df1.join(word_cnt_df2, word_cnt_df1.index == word_cnt_df2.index, how='full')\n",
    "result_df.show(truncate=False)"
   ],
   "id": "da7e3add08c035fa",
   "outputs": [
    {
     "name": "stdout",
     "output_type": "stream",
     "text": [
      "+-------+-----+-----+-------+-----+-----+\n",
      "|element|count|index|element|count|index|\n",
      "+-------+-----+-----+-------+-----+-----+\n",
      "|the    |1684 |0    |the    |1684 |0    |\n",
      "|I      |1544 |1    |I      |1544 |1    |\n",
      "|you    |1365 |2    |you    |1365 |2    |\n",
      "|to     |1154 |3    |to     |1154 |3    |\n",
      "|a      |892  |4    |a      |892  |4    |\n",
      "|s      |758  |5    |s      |758  |5    |\n",
      "|of     |731  |6    |of     |731  |6    |\n",
      "|and    |624  |7    |and    |624  |7    |\n",
      "|my     |507  |8    |my     |507  |8    |\n",
      "|t      |488  |9    |t      |488  |9    |\n",
      "+-------+-----+-----+-------+-----+-----+\n",
      "\n"
     ]
    }
   ],
   "execution_count": 91
  }
 ],
 "metadata": {
  "kernelspec": {
   "display_name": "Python 3",
   "language": "python",
   "name": "python3"
  },
  "language_info": {
   "codemirror_mode": {
    "name": "ipython",
    "version": 2
   },
   "file_extension": ".py",
   "mimetype": "text/x-python",
   "name": "python",
   "nbconvert_exporter": "python",
   "pygments_lexer": "ipython2",
   "version": "2.7.6"
  }
 },
 "nbformat": 4,
 "nbformat_minor": 5
}
